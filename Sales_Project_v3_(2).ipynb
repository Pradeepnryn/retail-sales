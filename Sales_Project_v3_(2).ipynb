{
  "cells": [
    {
      "cell_type": "markdown",
      "id": "dfc16e06",
      "metadata": {
        "id": "dfc16e06"
      },
      "source": [
        "# Sales Analysis\n",
        "\n",
        "\n",
        "## Project Statement:\n",
        "\n",
        "AAL is a household name in Australia, known for its clothing business since 2000. It caters to all groups— kids, women, men, and seniors. It has opened branches in many states in Australia, in metropolises and tier-1 and tier-2 cities.\n",
        "The business is booming, and the company is in an expansion mode. It wants to get an in-depth understanding of its sales so that it can make investment decisions. The CEO has tasked the Head of Sales and Marketing (S&M) of AAL to:\n",
        "   1. Determine the states that are generating the highest revenues and\n",
        "   2. Formulate sales programs for states with lower revenues. The Head of S&M has approached you for the same.\n",
        "Analyze the company’s sales data for the fourth quarter across Australia, and state by state and help the company make data-driven decisions for the coming year.\n",
        "\n",
        "\n",
        "![6.jpg](attachment:b2096501-7f1c-46af-a9aa-aa334578a8ae.jpg)"
      ]
    },
    {
      "cell_type": "markdown",
      "id": "918608b5",
      "metadata": {
        "id": "918608b5"
      },
      "source": [
        "## Step 0: Import libraries"
      ]
    },
    {
      "cell_type": "code",
      "execution_count": 1,
      "id": "244153e8-9700-4163-b70a-46ad513d879f",
      "metadata": {
        "id": "244153e8-9700-4163-b70a-46ad513d879f"
      },
      "outputs": [],
      "source": [
        "import pandas as pd\n",
        "import numpy as np\n",
        "#import pycountry\n",
        "import datetime\n",
        "import seaborn as sns\n",
        "from datetime import datetime\n",
        "import matplotlib.pyplot as plt\n",
        "import scipy.stats as stats\n",
        "#from statsmodels.stats.weightstats import ztest as ztest\n",
        "#from statsmodels.multivariate.manova import MANOVA\n",
        "#import statsmodels.api as sm\n",
        "import plotly.graph_objects as go\n",
        "import plotly.express as px\n",
        "from sklearn.preprocessing import MinMaxScaler\n",
        "from plotly.subplots import make_subplots\n",
        "\n",
        "\n",
        "import warnings\n",
        "warnings.filterwarnings('ignore')"
      ]
    },
    {
      "cell_type": "markdown",
      "id": "5e3d0a70",
      "metadata": {
        "id": "5e3d0a70"
      },
      "source": [
        "## Step 1: Import Data"
      ]
    },
    {
      "cell_type": "markdown",
      "id": "8cfa2e13-d705-4f76-9265-0c574f5b6a7e",
      "metadata": {
        "id": "8cfa2e13-d705-4f76-9265-0c574f5b6a7e"
      },
      "source": [
        "- Read dataset"
      ]
    },
    {
      "cell_type": "code",
      "execution_count": 2,
      "id": "3f629d1a-9901-4d9b-9f11-7035f82fc77f",
      "metadata": {
        "id": "3f629d1a-9901-4d9b-9f11-7035f82fc77f",
        "colab": {
          "base_uri": "https://localhost:8080/",
          "height": 333
        },
        "outputId": "62e32c5a-dd49-456d-ef26-693c057032e2"
      },
      "outputs": [
        {
          "output_type": "error",
          "ename": "FileNotFoundError",
          "evalue": "[Errno 2] No such file or directory: 'AusApparalSales4thQrt2020.csv'",
          "traceback": [
            "\u001b[0;31m---------------------------------------------------------------------------\u001b[0m",
            "\u001b[0;31mFileNotFoundError\u001b[0m                         Traceback (most recent call last)",
            "\u001b[0;32m/tmp/ipython-input-2-95507272.py\u001b[0m in \u001b[0;36m<cell line: 0>\u001b[0;34m()\u001b[0m\n\u001b[0;32m----> 1\u001b[0;31m \u001b[0mdf\u001b[0m\u001b[0;34m=\u001b[0m\u001b[0mpd\u001b[0m\u001b[0;34m.\u001b[0m\u001b[0mread_csv\u001b[0m\u001b[0;34m(\u001b[0m\u001b[0;34m'AusApparalSales4thQrt2020.csv'\u001b[0m\u001b[0;34m)\u001b[0m\u001b[0;34m\u001b[0m\u001b[0;34m\u001b[0m\u001b[0m\n\u001b[0m",
            "\u001b[0;32m/usr/local/lib/python3.11/dist-packages/pandas/io/parsers/readers.py\u001b[0m in \u001b[0;36mread_csv\u001b[0;34m(filepath_or_buffer, sep, delimiter, header, names, index_col, usecols, dtype, engine, converters, true_values, false_values, skipinitialspace, skiprows, skipfooter, nrows, na_values, keep_default_na, na_filter, verbose, skip_blank_lines, parse_dates, infer_datetime_format, keep_date_col, date_parser, date_format, dayfirst, cache_dates, iterator, chunksize, compression, thousands, decimal, lineterminator, quotechar, quoting, doublequote, escapechar, comment, encoding, encoding_errors, dialect, on_bad_lines, delim_whitespace, low_memory, memory_map, float_precision, storage_options, dtype_backend)\u001b[0m\n\u001b[1;32m   1024\u001b[0m     \u001b[0mkwds\u001b[0m\u001b[0;34m.\u001b[0m\u001b[0mupdate\u001b[0m\u001b[0;34m(\u001b[0m\u001b[0mkwds_defaults\u001b[0m\u001b[0;34m)\u001b[0m\u001b[0;34m\u001b[0m\u001b[0;34m\u001b[0m\u001b[0m\n\u001b[1;32m   1025\u001b[0m \u001b[0;34m\u001b[0m\u001b[0m\n\u001b[0;32m-> 1026\u001b[0;31m     \u001b[0;32mreturn\u001b[0m \u001b[0m_read\u001b[0m\u001b[0;34m(\u001b[0m\u001b[0mfilepath_or_buffer\u001b[0m\u001b[0;34m,\u001b[0m \u001b[0mkwds\u001b[0m\u001b[0;34m)\u001b[0m\u001b[0;34m\u001b[0m\u001b[0;34m\u001b[0m\u001b[0m\n\u001b[0m\u001b[1;32m   1027\u001b[0m \u001b[0;34m\u001b[0m\u001b[0m\n\u001b[1;32m   1028\u001b[0m \u001b[0;34m\u001b[0m\u001b[0m\n",
            "\u001b[0;32m/usr/local/lib/python3.11/dist-packages/pandas/io/parsers/readers.py\u001b[0m in \u001b[0;36m_read\u001b[0;34m(filepath_or_buffer, kwds)\u001b[0m\n\u001b[1;32m    618\u001b[0m \u001b[0;34m\u001b[0m\u001b[0m\n\u001b[1;32m    619\u001b[0m     \u001b[0;31m# Create the parser.\u001b[0m\u001b[0;34m\u001b[0m\u001b[0;34m\u001b[0m\u001b[0m\n\u001b[0;32m--> 620\u001b[0;31m     \u001b[0mparser\u001b[0m \u001b[0;34m=\u001b[0m \u001b[0mTextFileReader\u001b[0m\u001b[0;34m(\u001b[0m\u001b[0mfilepath_or_buffer\u001b[0m\u001b[0;34m,\u001b[0m \u001b[0;34m**\u001b[0m\u001b[0mkwds\u001b[0m\u001b[0;34m)\u001b[0m\u001b[0;34m\u001b[0m\u001b[0;34m\u001b[0m\u001b[0m\n\u001b[0m\u001b[1;32m    621\u001b[0m \u001b[0;34m\u001b[0m\u001b[0m\n\u001b[1;32m    622\u001b[0m     \u001b[0;32mif\u001b[0m \u001b[0mchunksize\u001b[0m \u001b[0;32mor\u001b[0m \u001b[0miterator\u001b[0m\u001b[0;34m:\u001b[0m\u001b[0;34m\u001b[0m\u001b[0;34m\u001b[0m\u001b[0m\n",
            "\u001b[0;32m/usr/local/lib/python3.11/dist-packages/pandas/io/parsers/readers.py\u001b[0m in \u001b[0;36m__init__\u001b[0;34m(self, f, engine, **kwds)\u001b[0m\n\u001b[1;32m   1618\u001b[0m \u001b[0;34m\u001b[0m\u001b[0m\n\u001b[1;32m   1619\u001b[0m         \u001b[0mself\u001b[0m\u001b[0;34m.\u001b[0m\u001b[0mhandles\u001b[0m\u001b[0;34m:\u001b[0m \u001b[0mIOHandles\u001b[0m \u001b[0;34m|\u001b[0m \u001b[0;32mNone\u001b[0m \u001b[0;34m=\u001b[0m \u001b[0;32mNone\u001b[0m\u001b[0;34m\u001b[0m\u001b[0;34m\u001b[0m\u001b[0m\n\u001b[0;32m-> 1620\u001b[0;31m         \u001b[0mself\u001b[0m\u001b[0;34m.\u001b[0m\u001b[0m_engine\u001b[0m \u001b[0;34m=\u001b[0m \u001b[0mself\u001b[0m\u001b[0;34m.\u001b[0m\u001b[0m_make_engine\u001b[0m\u001b[0;34m(\u001b[0m\u001b[0mf\u001b[0m\u001b[0;34m,\u001b[0m \u001b[0mself\u001b[0m\u001b[0;34m.\u001b[0m\u001b[0mengine\u001b[0m\u001b[0;34m)\u001b[0m\u001b[0;34m\u001b[0m\u001b[0;34m\u001b[0m\u001b[0m\n\u001b[0m\u001b[1;32m   1621\u001b[0m \u001b[0;34m\u001b[0m\u001b[0m\n\u001b[1;32m   1622\u001b[0m     \u001b[0;32mdef\u001b[0m \u001b[0mclose\u001b[0m\u001b[0;34m(\u001b[0m\u001b[0mself\u001b[0m\u001b[0;34m)\u001b[0m \u001b[0;34m->\u001b[0m \u001b[0;32mNone\u001b[0m\u001b[0;34m:\u001b[0m\u001b[0;34m\u001b[0m\u001b[0;34m\u001b[0m\u001b[0m\n",
            "\u001b[0;32m/usr/local/lib/python3.11/dist-packages/pandas/io/parsers/readers.py\u001b[0m in \u001b[0;36m_make_engine\u001b[0;34m(self, f, engine)\u001b[0m\n\u001b[1;32m   1878\u001b[0m                 \u001b[0;32mif\u001b[0m \u001b[0;34m\"b\"\u001b[0m \u001b[0;32mnot\u001b[0m \u001b[0;32min\u001b[0m \u001b[0mmode\u001b[0m\u001b[0;34m:\u001b[0m\u001b[0;34m\u001b[0m\u001b[0;34m\u001b[0m\u001b[0m\n\u001b[1;32m   1879\u001b[0m                     \u001b[0mmode\u001b[0m \u001b[0;34m+=\u001b[0m \u001b[0;34m\"b\"\u001b[0m\u001b[0;34m\u001b[0m\u001b[0;34m\u001b[0m\u001b[0m\n\u001b[0;32m-> 1880\u001b[0;31m             self.handles = get_handle(\n\u001b[0m\u001b[1;32m   1881\u001b[0m                 \u001b[0mf\u001b[0m\u001b[0;34m,\u001b[0m\u001b[0;34m\u001b[0m\u001b[0;34m\u001b[0m\u001b[0m\n\u001b[1;32m   1882\u001b[0m                 \u001b[0mmode\u001b[0m\u001b[0;34m,\u001b[0m\u001b[0;34m\u001b[0m\u001b[0;34m\u001b[0m\u001b[0m\n",
            "\u001b[0;32m/usr/local/lib/python3.11/dist-packages/pandas/io/common.py\u001b[0m in \u001b[0;36mget_handle\u001b[0;34m(path_or_buf, mode, encoding, compression, memory_map, is_text, errors, storage_options)\u001b[0m\n\u001b[1;32m    871\u001b[0m         \u001b[0;32mif\u001b[0m \u001b[0mioargs\u001b[0m\u001b[0;34m.\u001b[0m\u001b[0mencoding\u001b[0m \u001b[0;32mand\u001b[0m \u001b[0;34m\"b\"\u001b[0m \u001b[0;32mnot\u001b[0m \u001b[0;32min\u001b[0m \u001b[0mioargs\u001b[0m\u001b[0;34m.\u001b[0m\u001b[0mmode\u001b[0m\u001b[0;34m:\u001b[0m\u001b[0;34m\u001b[0m\u001b[0;34m\u001b[0m\u001b[0m\n\u001b[1;32m    872\u001b[0m             \u001b[0;31m# Encoding\u001b[0m\u001b[0;34m\u001b[0m\u001b[0;34m\u001b[0m\u001b[0m\n\u001b[0;32m--> 873\u001b[0;31m             handle = open(\n\u001b[0m\u001b[1;32m    874\u001b[0m                 \u001b[0mhandle\u001b[0m\u001b[0;34m,\u001b[0m\u001b[0;34m\u001b[0m\u001b[0;34m\u001b[0m\u001b[0m\n\u001b[1;32m    875\u001b[0m                 \u001b[0mioargs\u001b[0m\u001b[0;34m.\u001b[0m\u001b[0mmode\u001b[0m\u001b[0;34m,\u001b[0m\u001b[0;34m\u001b[0m\u001b[0;34m\u001b[0m\u001b[0m\n",
            "\u001b[0;31mFileNotFoundError\u001b[0m: [Errno 2] No such file or directory: 'AusApparalSales4thQrt2020.csv'"
          ]
        }
      ],
      "source": [
        "df=pd.read_csv('AusApparalSales4thQrt2020.csv')"
      ]
    },
    {
      "cell_type": "code",
      "source": [],
      "metadata": {
        "id": "ckpEWqI_e1th"
      },
      "id": "ckpEWqI_e1th",
      "execution_count": null,
      "outputs": []
    },
    {
      "cell_type": "markdown",
      "id": "a29ef8a2-7f31-4b1d-ae13-15be4a8ae162",
      "metadata": {
        "id": "a29ef8a2-7f31-4b1d-ae13-15be4a8ae162"
      },
      "source": [
        "- Check memory usage per column."
      ]
    },
    {
      "cell_type": "code",
      "execution_count": null,
      "id": "fc6d32c9-9750-4f6c-a4b8-c2b3b16a1640",
      "metadata": {
        "id": "fc6d32c9-9750-4f6c-a4b8-c2b3b16a1640"
      },
      "outputs": [],
      "source": [
        "df.memory_usage(deep=True)"
      ]
    },
    {
      "cell_type": "markdown",
      "id": "ae118470-3167-4ddb-9847-cacf2fe3c8fb",
      "metadata": {
        "id": "ae118470-3167-4ddb-9847-cacf2fe3c8fb"
      },
      "source": [
        "- Check data general info"
      ]
    },
    {
      "cell_type": "code",
      "execution_count": null,
      "id": "06d619b0-53b4-47a4-ae4e-02f4462e875c",
      "metadata": {
        "id": "06d619b0-53b4-47a4-ae4e-02f4462e875c"
      },
      "outputs": [],
      "source": [
        "df.info()"
      ]
    },
    {
      "cell_type": "markdown",
      "id": "c3bb030f-d7ec-4cb5-bad4-f95ccd32444d",
      "metadata": {
        "id": "c3bb030f-d7ec-4cb5-bad4-f95ccd32444d"
      },
      "source": [
        "- Check stats of each column in df"
      ]
    },
    {
      "cell_type": "code",
      "execution_count": null,
      "id": "33181fc9-6b56-4ff6-97d3-a28ca15bdd79",
      "metadata": {
        "id": "33181fc9-6b56-4ff6-97d3-a28ca15bdd79"
      },
      "outputs": [],
      "source": [
        "df.describe()"
      ]
    },
    {
      "cell_type": "markdown",
      "id": "33d6780c",
      "metadata": {
        "id": "33d6780c"
      },
      "source": [
        "## Step 2: Data Cleaning + Preprocessing"
      ]
    },
    {
      "cell_type": "markdown",
      "id": "9700f9cd",
      "metadata": {
        "id": "9700f9cd"
      },
      "source": [
        "### Data in general:"
      ]
    },
    {
      "cell_type": "markdown",
      "id": "070ea1cb-1512-464a-a6f1-2eb782b3189a",
      "metadata": {
        "id": "070ea1cb-1512-464a-a6f1-2eb782b3189a"
      },
      "source": [
        "#### 1. Duplicated records"
      ]
    },
    {
      "cell_type": "code",
      "execution_count": null,
      "id": "c48896d9-83c7-4a02-ac2f-0d814aba6048",
      "metadata": {
        "id": "c48896d9-83c7-4a02-ac2f-0d814aba6048"
      },
      "outputs": [],
      "source": [
        "print(df[df.duplicated()])"
      ]
    },
    {
      "cell_type": "markdown",
      "id": "8c1602a5-d019-436a-820a-cef6732705c0",
      "metadata": {
        "id": "8c1602a5-d019-436a-820a-cef6732705c0"
      },
      "source": [
        "#### 2. Invalid entries"
      ]
    },
    {
      "cell_type": "code",
      "execution_count": null,
      "id": "9228f118-60e8-461e-9b1b-847d81a43396",
      "metadata": {
        "id": "9228f118-60e8-461e-9b1b-847d81a43396"
      },
      "outputs": [],
      "source": [
        "print(df['Time'].unique())\n",
        "print(df['State'].unique())\n",
        "print(df['Group'].unique())"
      ]
    },
    {
      "cell_type": "markdown",
      "id": "789adafe-83b7-45ae-85c5-fd590139c78c",
      "metadata": {
        "id": "789adafe-83b7-45ae-85c5-fd590139c78c"
      },
      "source": [
        "#### 3. Rename Cols & formatting"
      ]
    },
    {
      "cell_type": "code",
      "execution_count": null,
      "id": "ccd5a12c-0c8e-473e-96b4-5714ae42d935",
      "metadata": {
        "id": "ccd5a12c-0c8e-473e-96b4-5714ae42d935"
      },
      "outputs": [],
      "source": [
        "# Convert object to string\n",
        "df['Time'] = df['Time'].astype('string')\n",
        "df['State'] = df['State'].astype('string')\n",
        "df['Group'] = df['Group'].astype('string')"
      ]
    },
    {
      "cell_type": "markdown",
      "id": "d8f466a5-3b0a-4446-ad38-75471161daa0",
      "metadata": {
        "id": "d8f466a5-3b0a-4446-ad38-75471161daa0"
      },
      "source": [
        "#### 4. Data Type check"
      ]
    },
    {
      "cell_type": "code",
      "execution_count": null,
      "id": "2a2f83a7-8cf9-484f-bd0e-d084b01a0851",
      "metadata": {
        "id": "2a2f83a7-8cf9-484f-bd0e-d084b01a0851"
      },
      "outputs": [],
      "source": [
        "df.dtypes"
      ]
    },
    {
      "cell_type": "markdown",
      "id": "0fa0cfe6-1540-4ef9-b6e3-9a9aa261bce3",
      "metadata": {
        "id": "0fa0cfe6-1540-4ef9-b6e3-9a9aa261bce3"
      },
      "source": [
        "### Numeric"
      ]
    },
    {
      "cell_type": "markdown",
      "id": "50fd7344-bc5b-4354-b1c8-0617db2ad997",
      "metadata": {
        "id": "50fd7344-bc5b-4354-b1c8-0617db2ad997"
      },
      "source": [
        "#### 1. Missing entries\n",
        "- Check missing entries"
      ]
    },
    {
      "cell_type": "code",
      "execution_count": null,
      "id": "664fd672-6bde-4bdc-871b-b727a6867344",
      "metadata": {
        "id": "664fd672-6bde-4bdc-871b-b727a6867344"
      },
      "outputs": [],
      "source": [
        "df.isnull().sum()"
      ]
    },
    {
      "cell_type": "markdown",
      "id": "496a054a-1c6a-4294-8467-e989dfb9daff",
      "metadata": {
        "id": "496a054a-1c6a-4294-8467-e989dfb9daff"
      },
      "source": [
        "#### 2. Local values"
      ]
    },
    {
      "cell_type": "code",
      "execution_count": null,
      "id": "6ac0964b-8242-4b03-a26d-a7085f9d6584",
      "metadata": {
        "id": "6ac0964b-8242-4b03-a26d-a7085f9d6584"
      },
      "outputs": [],
      "source": [
        "print('Unit: min =', df['Unit'].min(), ', max =', df['Unit'].max())\n",
        "print('Sales: min =', df['Sales'].min(), ', max =', df['Sales'].max())"
      ]
    },
    {
      "cell_type": "markdown",
      "id": "3204531d-c084-45ad-8274-16259b96cc84",
      "metadata": {
        "id": "3204531d-c084-45ad-8274-16259b96cc84"
      },
      "source": [
        "#### 3. Identifying outliers\n",
        "  - We checked for outliers in 'Unit' and 'Sales'\n",
        "  - An outlier is identified if its value in not between the Lower and Upper Bound.\n",
        "    - Lower Bound: (Q1 - 1.5 * IQR)\n",
        "    - Upper Bound: (Q3 + 1.5 * IQR)"
      ]
    },
    {
      "cell_type": "code",
      "execution_count": null,
      "id": "db163ab9-8153-4970-af0d-d534c5a7fff1",
      "metadata": {
        "id": "db163ab9-8153-4970-af0d-d534c5a7fff1"
      },
      "outputs": [],
      "source": [
        "sns.boxplot(df[\"Unit\"])\n",
        "plt.show()\n",
        "\n",
        "sns.boxplot(df['Sales'])\n",
        "plt.show()\n",
        "\n",
        "df['Unit'].describe()\n",
        "_25, _75 = np.percentile(df[\"Unit\"],[25,75])\n",
        "irq = _75 - _25\n",
        "unit_upper = _75 + 1.5*irq\n",
        "unit_lower = _25 - 1.5*irq\n",
        "\n",
        "\n",
        "df['Sales'].describe()\n",
        "_25, _75 = np.percentile(df[\"Sales\"],[25,75])\n",
        "irq = _75 - _25\n",
        "sales_upper = ( _75 + 1.5*irq)\n",
        "sales_lower = ( _25 - 1.5*irq)\n",
        "\n",
        "df.describe()"
      ]
    },
    {
      "cell_type": "markdown",
      "id": "8f4f8fc1-d85a-4872-a79b-649b701737ed",
      "metadata": {
        "id": "8f4f8fc1-d85a-4872-a79b-649b701737ed"
      },
      "source": [
        "4. Normaization"
      ]
    },
    {
      "cell_type": "code",
      "execution_count": null,
      "id": "84eaabbf-3fe9-44a6-9604-14eb67897ca7",
      "metadata": {
        "id": "84eaabbf-3fe9-44a6-9604-14eb67897ca7"
      },
      "outputs": [],
      "source": [
        "# Initialize the MinMaxScaler\n",
        "scaler = MinMaxScaler()\n",
        "\n",
        "# Fit and transform the 'Unit' column and add it to the DataFrame\n",
        "df['normalized_Unit'] = scaler.fit_transform(df[['Unit']])\n",
        "\n",
        "# Fit and transform the 'Sales' column and add it to the DataFrame\n",
        "df['normalized_Sales'] = scaler.fit_transform(df[['Sales']])\n",
        "\n",
        "df.describe()"
      ]
    },
    {
      "cell_type": "markdown",
      "id": "87c6aec9-da18-4c58-a01b-13a012bfc226",
      "metadata": {
        "id": "87c6aec9-da18-4c58-a01b-13a012bfc226"
      },
      "source": [
        "### Categorical"
      ]
    },
    {
      "cell_type": "markdown",
      "id": "5b154b57-3ef2-4c93-81a1-eca0174a081b",
      "metadata": {
        "id": "5b154b57-3ef2-4c93-81a1-eca0174a081b"
      },
      "source": [
        "#### 1. Missing values\n",
        "- Check missing entries"
      ]
    },
    {
      "cell_type": "code",
      "execution_count": null,
      "id": "a2a6e22f-5f6d-44ca-a721-18a937eaef69",
      "metadata": {
        "id": "a2a6e22f-5f6d-44ca-a721-18a937eaef69"
      },
      "outputs": [],
      "source": [
        "df.isnull().sum()"
      ]
    },
    {
      "cell_type": "markdown",
      "id": "fe082b48",
      "metadata": {
        "id": "fe082b48"
      },
      "source": [
        "## Step 3: Data Analysis"
      ]
    },
    {
      "cell_type": "markdown",
      "id": "0a8fddeb-c4aa-48da-af2d-f11d3f00216d",
      "metadata": {
        "id": "0a8fddeb-c4aa-48da-af2d-f11d3f00216d"
      },
      "source": [
        "### Perform descriptive statistical analysis on the data (Sales and Unit columns)."
      ]
    },
    {
      "cell_type": "code",
      "execution_count": null,
      "id": "53bc2375-1cbe-4f42-99b0-08b5f7bd202e",
      "metadata": {
        "id": "53bc2375-1cbe-4f42-99b0-08b5f7bd202e"
      },
      "outputs": [],
      "source": [
        "df.describe()"
      ]
    },
    {
      "cell_type": "markdown",
      "id": "06584535-b83f-4e39-b28d-403a54f01bc0",
      "metadata": {
        "id": "06584535-b83f-4e39-b28d-403a54f01bc0"
      },
      "source": [
        "### Determine which group is generating the highest sales, and which group is generating the lowest sales."
      ]
    },
    {
      "cell_type": "code",
      "execution_count": null,
      "id": "92306d16-7199-4d03-8e08-8b940c6c4213",
      "metadata": {
        "id": "92306d16-7199-4d03-8e08-8b940c6c4213"
      },
      "outputs": [],
      "source": [
        "# Group by 'Group' and sum their sales\n",
        "grouped_sales = df.groupby('Group').Sales.sum()\n",
        "\n",
        "# Find the group names with maximum and minimum sales\n",
        "group_max_sales = grouped_sales.idxmax()\n",
        "group_min_sales = grouped_sales.idxmin()\n",
        "\n",
        "df.groupby('Group').Unit.sum()[0]\n",
        "print('{} generate the highest sales, while {} generate the lowest sales.'.format(group_max_sales,group_min_sales))"
      ]
    },
    {
      "cell_type": "markdown",
      "id": "1566fa3b-e947-48c4-93bc-fe1d9a2e9626",
      "metadata": {
        "id": "1566fa3b-e947-48c4-93bc-fe1d9a2e9626"
      },
      "source": [
        "### Determine which state is generating the highest sales, and which state is generating the lowest sales."
      ]
    },
    {
      "cell_type": "code",
      "execution_count": null,
      "id": "e2bc885e-dbe1-4438-8019-2a04fba01a85",
      "metadata": {
        "id": "e2bc885e-dbe1-4438-8019-2a04fba01a85"
      },
      "outputs": [],
      "source": [
        "# Group by 'State' and sum their sales\n",
        "state_sales = df.groupby('State').Sales.sum()\n",
        "\n",
        "# Find the group names with maximum and minimum sales\n",
        "state_max_sales = state_sales.idxmax()\n",
        "state_min_sales = state_sales.idxmin()\n",
        "\n",
        "df.groupby('State').Unit.sum()[0]\n",
        "print('{} generate the highest sales, while {} generate the lowest sales.'.format(state_max_sales,state_min_sales))"
      ]
    },
    {
      "cell_type": "markdown",
      "id": "c40556e3-8df6-4ba4-a233-f4d9c1448fa1",
      "metadata": {
        "id": "c40556e3-8df6-4ba4-a233-f4d9c1448fa1"
      },
      "source": [
        "### Generate weekly, monthly and quarterly reports for the analysis made."
      ]
    },
    {
      "cell_type": "code",
      "execution_count": null,
      "id": "6a59599f-3ad6-4025-9cdd-9dd5267ce246",
      "metadata": {
        "id": "6a59599f-3ad6-4025-9cdd-9dd5267ce246"
      },
      "outputs": [],
      "source": [
        "df.set_index('Date', inplace=True)  # Set date column as index"
      ]
    },
    {
      "cell_type": "code",
      "execution_count": null,
      "id": "14d7b965-d722-4331-864e-39f94813a445",
      "metadata": {
        "id": "14d7b965-d722-4331-864e-39f94813a445"
      },
      "outputs": [],
      "source": [
        "# Weekly Report: resample by week and start with Monday\n",
        "weekly_report = df.resample('W-MON').sum()\n",
        "print(\"Weekly Report:\")\n",
        "print(weekly_report)"
      ]
    },
    {
      "cell_type": "code",
      "execution_count": null,
      "id": "061d5c37-fda5-48e0-b31a-9760ea4ab7b1",
      "metadata": {
        "id": "061d5c37-fda5-48e0-b31a-9760ea4ab7b1"
      },
      "outputs": [],
      "source": [
        "# Monthly Report: resample by month\n",
        "monthly_report = df.resample('M').sum()\n",
        "print(\"Monthly Report:\")\n",
        "print(monthly_report)"
      ]
    },
    {
      "cell_type": "code",
      "execution_count": null,
      "id": "3681d83b-2ac7-4071-b2f6-501891a0b610",
      "metadata": {
        "id": "3681d83b-2ac7-4071-b2f6-501891a0b610"
      },
      "outputs": [],
      "source": [
        "# Monthly Report: resample by quarters (3 months)\n",
        "quarterly_report = df.resample('Q').sum()\n",
        "print(\"Quarterly Report:\")\n",
        "print(quarterly_report)"
      ]
    },
    {
      "cell_type": "markdown",
      "id": "1ff0c05c",
      "metadata": {
        "id": "1ff0c05c"
      },
      "source": [
        "## Step 4: Visualization"
      ]
    },
    {
      "cell_type": "code",
      "execution_count": null,
      "id": "6b7bb1e0-dfc0-4387-a8dc-53735bbdb870",
      "metadata": {
        "id": "6b7bb1e0-dfc0-4387-a8dc-53735bbdb870"
      },
      "outputs": [],
      "source": [
        "df_daily = df.resample('D').sum()\n",
        "\n",
        "\n",
        "# Creating the dashboard\n",
        "fig = make_subplots(rows=2, cols=4, subplot_titles=(\"State-wise Sales Analysis\", \"Group-wise Sales Analysis\", \"Time-of-the-day Analysis\", \"Sales Trends Analysis Daily\",\"Sales Trends Analysis Weeakly \",\"Sales Trends Analysis Monthly \",' ',\"Sales Trends Analysis Quarterly\"))\n",
        "\n",
        "# State-wise sales analysis for different groups\n",
        "fig.add_trace(go.Bar(x=df['State'], y=df['Sales'], name='Sales', marker=dict(color='rgb(34, 111, 255)')), row=1, col=1)\n",
        "fig.add_trace(go.Bar(x=df['State'], y=df['normalized_Sales'], name='Normalized Sales'), row=1, col=1)\n",
        "\n",
        "# Group-wise sales analysis across different states\n",
        "fig.add_trace(go.Bar(x=df['Group'], y=df['Sales'], name='Sales'), row=1, col=2)\n",
        "fig.add_trace(go.Bar(x=df['Group'], y=df['normalized_Sales'], name='Normalized Sales', marker=dict(color='rgb(55, 83, 109)')), row=1, col=2)\n",
        "\n",
        "# Time-of-the-day analysis\n",
        "df_time_analysis = df.groupby('Time').sum().reset_index()  # Aggregating data for time analysis\n",
        "fig.add_trace(go.Bar(x=df_time_analysis['Time'], y=df_time_analysis['Sales'],  name='Sales'), row=1, col=3)\n",
        "fig.add_trace(go.Bar(x=df_time_analysis['Time'], y=df_time_analysis['normalized_Sales'],  name='Normalized Sales'), row=1, col=3)\n",
        "\n",
        "# Add traces for sales trends\n",
        "fig.add_trace(go.Scatter(x=df_daily.index, y=df_daily['Sales'], mode='lines+markers', name='Daily Sales'), row=1, col=4)\n",
        "fig.add_trace(go.Scatter(x=weekly_report.index, y=weekly_report['Sales'], mode='lines+markers', name='Weekly Sales'), row=2, col=1)\n",
        "fig.add_trace(go.Scatter(x=monthly_report.index, y=monthly_report['Sales'], mode='lines+markers', name='Monthly Sales'), row=2, col=2)\n",
        "fig.add_trace(go.Scatter(x=quarterly_report.index, y=quarterly_report['Sales'], mode='lines+markers', name='Quarterly Sales'), row=2, col=4)\n",
        "# Update layout\n",
        "fig.update_layout(showlegend=False, title_text=\"Sales Dashboard for S&M Head\")\n",
        "\n",
        "# Update layout to change the plot background color\n",
        "fig.update_layout(\n",
        "    plot_bgcolor='rgb(50, 50, 50)'\n",
        ")\n",
        "# Show the plots\n",
        "fig.show()"
      ]
    },
    {
      "cell_type": "markdown",
      "id": "d4aaea04-b659-42fa-bd9c-4b8812063229",
      "metadata": {
        "id": "d4aaea04-b659-42fa-bd9c-4b8812063229"
      },
      "source": [
        "Bar Plots for State-wise and Group-wise Sales Analysis: Plotly's bar plot functionality is well-suited for comparing sales across different states and groups. Its customizability allows the user to set specific colors and formatting, enhancing the visual representation and facilitating easy interpretation of the sales data by the Head of Sales and Marketing.\n",
        "\n",
        "Bar Plots for Time-of-the-day Analysis: While the provided code utilizes bar plots for time-of-the-day analysis, an alternative or complementary approach could be to use line plots to demonstrate the trends and fluctuations in sales over time. However, bar plots effectively display the distribution of sales across different times of the day, enabling quick comparisons and insights into peak and off-peak sales periods.\n",
        "\n",
        "Line Plots for Sales Trends Analysis: Plotly's line plot functionality is particularly well-suited for illustrating sales trends over various time intervals, such as daily, weekly, monthly, and quarterly periods. The use of lines and markers aids in visualizing the overall trends, allowing the Head of Sales and Marketing to discern any patterns or fluctuations in sales performance over time."
      ]
    }
  ],
  "metadata": {
    "colab": {
      "provenance": []
    },
    "kernelspec": {
      "display_name": "Python 3 (ipykernel)",
      "language": "python",
      "name": "python3"
    },
    "language_info": {
      "codemirror_mode": {
        "name": "ipython",
        "version": 3
      },
      "file_extension": ".py",
      "mimetype": "text/x-python",
      "name": "python",
      "nbconvert_exporter": "python",
      "pygments_lexer": "ipython3",
      "version": "3.11.5"
    }
  },
  "nbformat": 4,
  "nbformat_minor": 5
}